{
 "cells": [
  {
   "cell_type": "markdown",
   "metadata": {},
   "source": [
    "# 1、读取文件夹图片目录"
   ]
  },
  {
   "cell_type": "code",
   "execution_count": 4,
   "metadata": {
    "collapsed": false
   },
   "outputs": [
    {
     "name": "stdout",
     "output_type": "stream",
     "text": [
      "filename:  ['x-1.JPG', 'x-11.JPG', 'x-2.JPG', 'x-3.JPG', 'x-7.JPG']\n"
     ]
    }
   ],
   "source": [
    "import os\n",
    "filepath = \".\\image\"\n",
    "filename = os.listdir(filepath)\n",
    "#del filename[0]\n",
    "print ('filename: ', filename)"
   ]
  },
  {
   "cell_type": "markdown",
   "metadata": {},
   "source": [
    "# 2、打开txt文件，准备写入\n",
    "\n",
    "# 3、通过for循环，分割两次列表元素名称\n",
    "\n",
    "# 4、将分割好的数字写入txt文件\n"
   ]
  },
  {
   "cell_type": "code",
   "execution_count": 10,
   "metadata": {
    "collapsed": false
   },
   "outputs": [
    {
     "name": "stdout",
     "output_type": "stream",
     "text": [
      "delfinal: 1\n",
      "delfinal: 11\n",
      "delfinal: 2\n",
      "delfinal: 3\n",
      "delfinal: 7\n"
     ]
    }
   ],
   "source": [
    "with open('1.txt', 'w') as f:\n",
    "    for fileindex, fileval in enumerate(filename):\n",
    "        delfinal = fileval.split('-')[1].split('.')[0].strip()\n",
    "        print('delfinal:', delfinal)\n",
    "        f.writelines( delfinal + '\\n')"
   ]
  },
  {
   "cell_type": "markdown",
   "metadata": {},
   "source": [
    "# 5、打开txt文件，读取所有行，返回列表\n",
    "\n",
    "# 6、按行打印内容并关闭文件\n"
   ]
  },
  {
   "cell_type": "code",
   "execution_count": 11,
   "metadata": {
    "collapsed": false
   },
   "outputs": [
    {
     "name": "stdout",
     "output_type": "stream",
     "text": [
      "each line:  1\n",
      "\n",
      "each line:  11\n",
      "\n",
      "each line:  2\n",
      "\n",
      "each line:  3\n",
      "\n",
      "each line:  7\n",
      "\n"
     ]
    }
   ],
   "source": [
    "with open('1.txt', 'r') as f:\n",
    "    lines = f.readlines()\n",
    "    for line in lines:\n",
    "        print ('each line: ', line)"
   ]
  }
 ],
 "metadata": {
  "anaconda-cloud": {},
  "kernelspec": {
   "display_name": "Python [Anaconda3]",
   "language": "python",
   "name": "Python [Anaconda3]"
  },
  "language_info": {
   "codemirror_mode": {
    "name": "ipython",
    "version": 3
   },
   "file_extension": ".py",
   "mimetype": "text/x-python",
   "name": "python",
   "nbconvert_exporter": "python",
   "pygments_lexer": "ipython3",
   "version": "3.5.2"
  }
 },
 "nbformat": 4,
 "nbformat_minor": 2
}
